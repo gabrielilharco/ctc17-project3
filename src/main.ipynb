{
 "cells": [
  {
   "cell_type": "markdown",
   "metadata": {},
   "source": [
    "# Predicting Movie Rates with Decision Tree\n",
    "\n",
    "In this report, we are building step by step a decision tree to predict user ratings on movies using the MovieLens dataset, available at http://grouplens.org/datasets/movielens/\n",
    "\n",
    "The dataset is composed by 3 main files:\n",
    "\n",
    "**movies.dat:** this file contains information of all movies, in the format < movie id > :: < movie name > :: < pipe separeted list of genders >\n",
    "\n",
    "**users.dat:** this file contains information of all users, in the format < user id > :: < user gender > :: < user age > :: < ocupation > :: < zip code > \n",
    "\n",
    "**ratings.dat:** this file contains information of all ratings, in the format < user id > :: < movie id > :: < rating > :: < timestamp >\n"
   ]
  },
  {
   "cell_type": "markdown",
   "metadata": {},
   "source": [
    "## Pre-processing data\n",
    "\n",
    "The first step in this project is to join the data in the 3 data files into a feature and a label matrices. For the gender informations, for each movie we added a binary variable for each different gender. \n",
    "\n",
    "The function **build_features** does all the processing, and returns two matrices, X and y, corresponding to the features and the labels. "
   ]
  },
  {
   "cell_type": "code",
   "execution_count": 71,
   "metadata": {
    "collapsed": false
   },
   "outputs": [
    {
     "name": "stdout",
     "output_type": "stream",
     "text": [
      "   user_id  movie_id  gender   age  ocupation  Action  Adventure  Animation  \\\n",
      "0      1.0    1193.0     0.0   1.0       10.0     0.0        0.0        0.0   \n",
      "1      2.0    1193.0     1.0  56.0       16.0     0.0        0.0        0.0   \n",
      "2     12.0    1193.0     1.0  25.0       12.0     0.0        0.0        0.0   \n",
      "3     15.0    1193.0     1.0  25.0        7.0     0.0        0.0        0.0   \n",
      "4     17.0    1193.0     1.0  50.0        1.0     0.0        0.0        0.0   \n",
      "\n",
      "   Children's  Comedy   ...     Fantasy  Film-Noir  Horror  Musical  Mystery  \\\n",
      "0         0.0     0.0   ...         0.0        0.0     0.0      0.0      0.0   \n",
      "1         0.0     0.0   ...         0.0        0.0     0.0      0.0      0.0   \n",
      "2         0.0     0.0   ...         0.0        0.0     0.0      0.0      0.0   \n",
      "3         0.0     0.0   ...         0.0        0.0     0.0      0.0      0.0   \n",
      "4         0.0     0.0   ...         0.0        0.0     0.0      0.0      0.0   \n",
      "\n",
      "   Romance  Sci-Fi  Thriller  War  Western  \n",
      "0      0.0     0.0       0.0  0.0      0.0  \n",
      "1      0.0     0.0       0.0  0.0      0.0  \n",
      "2      0.0     0.0       0.0  0.0      0.0  \n",
      "3      0.0     0.0       0.0  0.0      0.0  \n",
      "4      0.0     0.0       0.0  0.0      0.0  \n",
      "\n",
      "[5 rows x 22 columns]\n",
      "0    5.0\n",
      "1    5.0\n",
      "2    4.0\n",
      "3    4.0\n",
      "4    5.0\n",
      "Name: rating, dtype: float64\n"
     ]
    }
   ],
   "source": [
    "import pandas as pd\n",
    "\n",
    "def build_features():\n",
    "    \"\"\"\n",
    "    read data from movies, users and rating and return a single pandas dataframe\n",
    "    of the joined tables, containing all info on ratings\n",
    "    \"\"\"\n",
    "    # movie genres\n",
    "    genres = [\n",
    "        'Action',\n",
    "        'Adventure',\n",
    "        'Animation',\n",
    "        'Children\\'s',\n",
    "        'Comedy',\n",
    "        'Documentary',\n",
    "        'Drama',\n",
    "        'Fantasy',\n",
    "        'Film-Noir',\n",
    "        'Horror',\n",
    "        'Musical',\n",
    "        'Mystery',\n",
    "        'Romance',\n",
    "        'Sci-Fi',\n",
    "        'Thriller',\n",
    "        'War',\n",
    "        'Western'\n",
    "    ]\n",
    "    # reading movies data\n",
    "    movies_df = pd.DataFrame(columns=['movie_id'] + genres)\n",
    "    with open('../data/movies.dat','r') as file:\n",
    "        \n",
    "        \n",
    "        lines = file.readlines()\n",
    "        for idx in range(len(lines)):\n",
    "            row = lines[idx].split(\"::\")\n",
    "            movie_genres = row[-1][:-1].split('|')\n",
    "            row = row[:-2] # ignore gender and movie name\n",
    "            row[0] = int(row[0]) # cast id to integer\n",
    "            for genre in genres:\n",
    "                row.append(int(genre in movie_genres))\n",
    "            movies_df.loc[idx] = row\n",
    "    \n",
    "    # reading users data\n",
    "    users_df = pd.read_table('../data/users.dat', \n",
    "                    names=['user_id', 'gender', 'age', 'ocupation', 'zip_code'], \n",
    "                     sep='::', engine='python')\n",
    "    users_df['gender'] = users_df['gender'].apply(lambda x: int(x == 'M'))\n",
    "    \n",
    "    # reading ratings data\n",
    "    ratings_df = pd.read_table('../data/ratings.dat', \n",
    "                    names=['user_id', 'movie_id', 'rating', 'timestamp'], \n",
    "                    sep='::', engine='python')\n",
    "    \n",
    "    # join tables\n",
    "    user_ratings_df = ratings_df.merge(users_df, how='inner', on='user_id')\n",
    "    features_df = user_ratings_df.merge(movies_df, how='outer', on='movie_id')\n",
    "    \n",
    "    # drop unwanted features\n",
    "    features_df = features_df.drop('timestamp', 1)\n",
    "    features_df = features_df.drop('zip_code', 1)\n",
    "    \n",
    "    # separate labels from features\n",
    "    labels = features_df['rating']\n",
    "    features = features_df.drop('rating',1)\n",
    "    \n",
    "    # print first 5 rows\n",
    "    print features.head()\n",
    "    print labels.head()\n",
    "    \n",
    "build_features()"
   ]
  },
  {
   "cell_type": "code",
   "execution_count": null,
   "metadata": {
    "collapsed": true
   },
   "outputs": [],
   "source": []
  }
 ],
 "metadata": {
  "kernelspec": {
   "display_name": "Python 2",
   "language": "python",
   "name": "python2"
  },
  "language_info": {
   "codemirror_mode": {
    "name": "ipython",
    "version": 2
   },
   "file_extension": ".py",
   "mimetype": "text/x-python",
   "name": "python",
   "nbconvert_exporter": "python",
   "pygments_lexer": "ipython2",
   "version": "2.7.6"
  }
 },
 "nbformat": 4,
 "nbformat_minor": 0
}
