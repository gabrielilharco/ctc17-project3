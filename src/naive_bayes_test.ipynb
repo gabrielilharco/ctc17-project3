{
 "cells": [
  {
   "cell_type": "code",
   "execution_count": 2,
   "metadata": {
    "collapsed": true
   },
   "outputs": [],
   "source": [
    "import pandas as pd\n",
    "import numpy as np"
   ]
  },
  {
   "cell_type": "code",
   "execution_count": 3,
   "metadata": {
    "collapsed": false
   },
   "outputs": [],
   "source": [
    "DATA_PATH = '../data'\n",
    "df = pd.read_csv(DATA_PATH + '/test_data.txt', delimiter='\\t')"
   ]
  },
  {
   "cell_type": "code",
   "execution_count": 4,
   "metadata": {
    "collapsed": false
   },
   "outputs": [
    {
     "data": {
      "text/html": [
       "<div>\n",
       "<table border=\"1\" class=\"dataframe\">\n",
       "  <thead>\n",
       "    <tr style=\"text-align: right;\">\n",
       "      <th></th>\n",
       "      <th>Gender</th>\n",
       "      <th>height</th>\n",
       "      <th>weight</th>\n",
       "      <th>foot size</th>\n",
       "    </tr>\n",
       "  </thead>\n",
       "  <tbody>\n",
       "    <tr>\n",
       "      <th>0</th>\n",
       "      <td>male</td>\n",
       "      <td>very tall</td>\n",
       "      <td>very heavy</td>\n",
       "      <td>10-12</td>\n",
       "    </tr>\n",
       "    <tr>\n",
       "      <th>1</th>\n",
       "      <td>male</td>\n",
       "      <td>very tall</td>\n",
       "      <td>very heavy</td>\n",
       "      <td>10-12</td>\n",
       "    </tr>\n",
       "    <tr>\n",
       "      <th>2</th>\n",
       "      <td>male</td>\n",
       "      <td>tall</td>\n",
       "      <td>heavy</td>\n",
       "      <td>10-12</td>\n",
       "    </tr>\n",
       "    <tr>\n",
       "      <th>3</th>\n",
       "      <td>male</td>\n",
       "      <td>very tall</td>\n",
       "      <td>heavy</td>\n",
       "      <td>10-12</td>\n",
       "    </tr>\n",
       "    <tr>\n",
       "      <th>4</th>\n",
       "      <td>female</td>\n",
       "      <td>short</td>\n",
       "      <td>very skinny</td>\n",
       "      <td>4-6</td>\n",
       "    </tr>\n",
       "  </tbody>\n",
       "</table>\n",
       "</div>"
      ],
      "text/plain": [
       "   Gender     height       weight foot size\n",
       "0    male  very tall   very heavy     10-12\n",
       "1    male  very tall   very heavy     10-12\n",
       "2    male       tall        heavy     10-12\n",
       "3    male  very tall        heavy     10-12\n",
       "4  female      short  very skinny       4-6"
      ]
     },
     "execution_count": 4,
     "metadata": {},
     "output_type": "execute_result"
    }
   ],
   "source": [
    "df.head(5)"
   ]
  },
  {
   "cell_type": "code",
   "execution_count": 5,
   "metadata": {
    "collapsed": false
   },
   "outputs": [],
   "source": [
    "df['Gender'] = df['Gender'].apply(lambda x: 0 if x == 'male' else 1)\n",
    "\n",
    "X = df[['height', 'weight', 'foot size']].values\n",
    "y = df['Gender'].values\n",
    "\n"
   ]
  },
  {
   "cell_type": "code",
   "execution_count": 6,
   "metadata": {
    "collapsed": false
   },
   "outputs": [
    {
     "data": {
      "text/plain": [
       "array([0, 1, 2, 3])"
      ]
     },
     "execution_count": 6,
     "metadata": {},
     "output_type": "execute_result"
    }
   ],
   "source": [
    "#Some testing\n",
    "a = np.array([0,1,1,2,2,3]) \n",
    "np.unique(a)\n",
    "\n",
    "#b = len(np.extract(a == 3, a))\n",
    "#b"
   ]
  },
  {
   "cell_type": "code",
   "execution_count": 7,
   "metadata": {
    "collapsed": false
   },
   "outputs": [],
   "source": [
    "class NaiveBayesClassifier(object):\n",
    "    def __init__(self):\n",
    "        self.n_samples = 0\n",
    "        self.n_classes = 0\n",
    "        self.n_features = 0\n",
    "        self.prior = {}\n",
    "        \n",
    "    def fit(self, X, y):\n",
    "        self.n_classes = np.unique(y)\n",
    "        self.n_samples = np.shape(X)[0]\n",
    "        self.n_features = np.shape(X)[1]\n",
    "        self.cond_prob = np.full(self.n_features, {}, dtype=dict)\n",
    "        \n",
    "        self.calculate_cond_prob_(X,y)\n",
    "\n",
    "    def predict(self, X):\n",
    "        pass\n",
    "    \n",
    "    def calculate_prior_prob_(self, X, y):\n",
    "        total_numb = np.size(y)\n",
    "        \n",
    "        \n",
    "        for c in np.unique(y):\n",
    "            self.prior[c] = len(np.extract(y == c, y)) / total_numb\n",
    "            \n",
    "    def calculate_cond_prob_(self, X, y):\n",
    "        for i in range(self.n_features):\n",
    "            for f_c in np.unique(X[:, i]):\n",
    "                print (i, f_c)\n",
    "                self.cond_prob[i][f_c] = len(np.extract(X[:, i] == f_c, X[:, i])) / self.n_samples\n",
    "            \n",
    "        \n",
    "        "
   ]
  },
  {
   "cell_type": "code",
   "execution_count": 8,
   "metadata": {
    "collapsed": false
   },
   "outputs": [
    {
     "data": {
      "text/plain": [
       "array([{}], dtype=object)"
      ]
     },
     "execution_count": 8,
     "metadata": {},
     "output_type": "execute_result"
    }
   ],
   "source": [
    "a = [[1,2,3],[5,2,3]]\n",
    "np.shape(a)[0]\n",
    "\n",
    "np.array([{}, {}])\n",
    "\n",
    "#a = np.append(a, [[1,2,3]], axis=1)\n",
    "a = [1,2,3]\n",
    "a = np.full(1, {}, dtype=dict)\n",
    "a\n"
   ]
  },
  {
   "cell_type": "code",
   "execution_count": 128,
   "metadata": {
    "collapsed": false
   },
   "outputs": [
    {
     "name": "stdout",
     "output_type": "stream",
     "text": [
      "0 5.0\n",
      "0 5.42\n",
      "0 5.5\n",
      "0 5.58\n",
      "0 5.75\n",
      "0 5.92\n",
      "0 6.0\n",
      "1 100.0\n",
      "1 130.0\n",
      "1 150.0\n",
      "1 165.0\n",
      "1 170.0\n",
      "1 180.0\n",
      "1 190.0\n",
      "2 6.0\n",
      "2 7.0\n",
      "2 8.0\n",
      "2 9.0\n",
      "2 10.0\n",
      "2 11.0\n",
      "2 12.0\n"
     ]
    },
    {
     "data": {
      "text/plain": [
       "array([ {130.0: 0.125, 11.0: 0.125, 100.0: 0.125, 165.0: 0.125, 6.0: 0.125, 7.0: 0.125, 8.0: 0.125, 5.4199999999999999: 0.125, 170.0: 0.125, 5.0: 0.125, 12.0: 0.25, 5.5: 0.125, 180.0: 0.125, 150.0: 0.25, 9.0: 0.125, 5.75: 0.125, 5.9199999999999999: 0.25, 10.0: 0.125, 190.0: 0.125, 5.5800000000000001: 0.125},\n",
       "       {130.0: 0.125, 11.0: 0.125, 100.0: 0.125, 165.0: 0.125, 6.0: 0.125, 7.0: 0.125, 8.0: 0.125, 5.4199999999999999: 0.125, 170.0: 0.125, 5.0: 0.125, 12.0: 0.25, 5.5: 0.125, 180.0: 0.125, 150.0: 0.25, 9.0: 0.125, 5.75: 0.125, 5.9199999999999999: 0.25, 10.0: 0.125, 190.0: 0.125, 5.5800000000000001: 0.125},\n",
       "       {130.0: 0.125, 11.0: 0.125, 100.0: 0.125, 165.0: 0.125, 6.0: 0.125, 7.0: 0.125, 8.0: 0.125, 5.4199999999999999: 0.125, 170.0: 0.125, 5.0: 0.125, 12.0: 0.25, 5.5: 0.125, 180.0: 0.125, 150.0: 0.25, 9.0: 0.125, 5.75: 0.125, 5.9199999999999999: 0.25, 10.0: 0.125, 190.0: 0.125, 5.5800000000000001: 0.125}], dtype=object)"
      ]
     },
     "execution_count": 128,
     "metadata": {},
     "output_type": "execute_result"
    }
   ],
   "source": [
    "nb = NaiveBayesClassifier()\n",
    "\n",
    "nb.fit(X,y)\n",
    "nb.cond_prob"
   ]
  },
  {
   "cell_type": "code",
   "execution_count": null,
   "metadata": {
    "collapsed": true
   },
   "outputs": [],
   "source": []
  }
 ],
 "metadata": {
  "anaconda-cloud": {},
  "kernelspec": {
   "display_name": "Python [default]",
   "language": "python",
   "name": "python3"
  },
  "language_info": {
   "codemirror_mode": {
    "name": "ipython",
    "version": 3
   },
   "file_extension": ".py",
   "mimetype": "text/x-python",
   "name": "python",
   "nbconvert_exporter": "python",
   "pygments_lexer": "ipython3",
   "version": "3.5.2"
  }
 },
 "nbformat": 4,
 "nbformat_minor": 1
}
