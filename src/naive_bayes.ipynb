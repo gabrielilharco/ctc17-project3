{
 "cells": [
  {
   "cell_type": "markdown",
   "metadata": {},
   "source": [
    "# Movie Classification using Naive Bayes Classifier"
   ]
  },
  {
   "cell_type": "markdown",
   "metadata": {},
   "source": [
    "## 1. Data\n",
    "The dataset is composed of 3 files.\n",
    "\n",
    "* **movies.dat** - movie information (title and genre)\n",
    "* **users.dat** - user information (including gender, age, occupation...)\n",
    "* **ratings.dat** - movie ratings given by users"
   ]
  },
  {
   "cell_type": "code",
   "execution_count": 2,
   "metadata": {
    "collapsed": true
   },
   "outputs": [],
   "source": [
    "import pandas as pd\n",
    "import numpy as np\n",
    "\n",
    "from IPython.display import display, HTML"
   ]
  },
  {
   "cell_type": "code",
   "execution_count": 3,
   "metadata": {
    "collapsed": false
   },
   "outputs": [],
   "source": [
    "DATA_PATH = \"../data\"\n",
    "\n",
    "data_movies = pd.read_csv(DATA_PATH + \"/movies.dat\", delimiter=\"::\", header=None, engine=\"python\",\n",
    "                         names=[\"MovieID\", \"Title\", \"Genres\"])\n",
    "\n",
    "data_users = pd.read_csv(DATA_PATH + \"/users.dat\", delimiter=\"::\", header=None, engine=\"python\",\n",
    "                         names=[\"UserID\", \"Gender\", \"Age\", \"Occupation\", \"Zip-code\"])\n",
    "\n",
    "data_ratings = pd.read_csv(DATA_PATH + \"/ratings.dat\", delimiter=\"::\", header=None, engine=\"python\",\n",
    "                         names=[\"UserID\", \"MovieID\", \"Rating\", \"Timestamp\"])\n"
   ]
  },
  {
   "cell_type": "markdown",
   "metadata": {},
   "source": [
    "Some simple data visualization..."
   ]
  },
  {
   "cell_type": "code",
   "execution_count": 4,
   "metadata": {
    "collapsed": false
   },
   "outputs": [
    {
     "name": "stdout",
     "output_type": "stream",
     "text": [
      "Movies dataset\n"
     ]
    },
    {
     "data": {
      "text/html": [
       "<div>\n",
       "<table border=\"1\" class=\"dataframe\">\n",
       "  <thead>\n",
       "    <tr style=\"text-align: right;\">\n",
       "      <th></th>\n",
       "      <th>MovieID</th>\n",
       "      <th>Title</th>\n",
       "      <th>Genres</th>\n",
       "    </tr>\n",
       "  </thead>\n",
       "  <tbody>\n",
       "    <tr>\n",
       "      <th>0</th>\n",
       "      <td>1</td>\n",
       "      <td>Toy Story (1995)</td>\n",
       "      <td>Animation|Children's|Comedy</td>\n",
       "    </tr>\n",
       "    <tr>\n",
       "      <th>1</th>\n",
       "      <td>2</td>\n",
       "      <td>Jumanji (1995)</td>\n",
       "      <td>Adventure|Children's|Fantasy</td>\n",
       "    </tr>\n",
       "    <tr>\n",
       "      <th>2</th>\n",
       "      <td>3</td>\n",
       "      <td>Grumpier Old Men (1995)</td>\n",
       "      <td>Comedy|Romance</td>\n",
       "    </tr>\n",
       "    <tr>\n",
       "      <th>3</th>\n",
       "      <td>4</td>\n",
       "      <td>Waiting to Exhale (1995)</td>\n",
       "      <td>Comedy|Drama</td>\n",
       "    </tr>\n",
       "    <tr>\n",
       "      <th>4</th>\n",
       "      <td>5</td>\n",
       "      <td>Father of the Bride Part II (1995)</td>\n",
       "      <td>Comedy</td>\n",
       "    </tr>\n",
       "  </tbody>\n",
       "</table>\n",
       "</div>"
      ],
      "text/plain": [
       "   MovieID                               Title                        Genres\n",
       "0        1                    Toy Story (1995)   Animation|Children's|Comedy\n",
       "1        2                      Jumanji (1995)  Adventure|Children's|Fantasy\n",
       "2        3             Grumpier Old Men (1995)                Comedy|Romance\n",
       "3        4            Waiting to Exhale (1995)                  Comedy|Drama\n",
       "4        5  Father of the Bride Part II (1995)                        Comedy"
      ]
     },
     "metadata": {},
     "output_type": "display_data"
    },
    {
     "name": "stdout",
     "output_type": "stream",
     "text": [
      "<class 'pandas.core.frame.DataFrame'>\n",
      "RangeIndex: 3883 entries, 0 to 3882\n",
      "Data columns (total 3 columns):\n",
      "MovieID    3883 non-null int64\n",
      "Title      3883 non-null object\n",
      "Genres     3883 non-null object\n",
      "dtypes: int64(1), object(2)\n",
      "memory usage: 91.1+ KB\n"
     ]
    },
    {
     "data": {
      "text/plain": [
       "None"
      ]
     },
     "metadata": {},
     "output_type": "display_data"
    }
   ],
   "source": [
    "print (\"Movies dataset\")\n",
    "display(data_movies.head())\n",
    "display(data_movies.info())"
   ]
  },
  {
   "cell_type": "code",
   "execution_count": 5,
   "metadata": {
    "collapsed": false
   },
   "outputs": [
    {
     "name": "stdout",
     "output_type": "stream",
     "text": [
      "Users dataset\n"
     ]
    },
    {
     "data": {
      "text/html": [
       "<div>\n",
       "<table border=\"1\" class=\"dataframe\">\n",
       "  <thead>\n",
       "    <tr style=\"text-align: right;\">\n",
       "      <th></th>\n",
       "      <th>UserID</th>\n",
       "      <th>Gender</th>\n",
       "      <th>Age</th>\n",
       "      <th>Occupation</th>\n",
       "      <th>Zip-code</th>\n",
       "    </tr>\n",
       "  </thead>\n",
       "  <tbody>\n",
       "    <tr>\n",
       "      <th>0</th>\n",
       "      <td>1</td>\n",
       "      <td>F</td>\n",
       "      <td>1</td>\n",
       "      <td>10</td>\n",
       "      <td>48067</td>\n",
       "    </tr>\n",
       "    <tr>\n",
       "      <th>1</th>\n",
       "      <td>2</td>\n",
       "      <td>M</td>\n",
       "      <td>56</td>\n",
       "      <td>16</td>\n",
       "      <td>70072</td>\n",
       "    </tr>\n",
       "    <tr>\n",
       "      <th>2</th>\n",
       "      <td>3</td>\n",
       "      <td>M</td>\n",
       "      <td>25</td>\n",
       "      <td>15</td>\n",
       "      <td>55117</td>\n",
       "    </tr>\n",
       "    <tr>\n",
       "      <th>3</th>\n",
       "      <td>4</td>\n",
       "      <td>M</td>\n",
       "      <td>45</td>\n",
       "      <td>7</td>\n",
       "      <td>02460</td>\n",
       "    </tr>\n",
       "    <tr>\n",
       "      <th>4</th>\n",
       "      <td>5</td>\n",
       "      <td>M</td>\n",
       "      <td>25</td>\n",
       "      <td>20</td>\n",
       "      <td>55455</td>\n",
       "    </tr>\n",
       "  </tbody>\n",
       "</table>\n",
       "</div>"
      ],
      "text/plain": [
       "   UserID Gender  Age  Occupation Zip-code\n",
       "0       1      F    1          10    48067\n",
       "1       2      M   56          16    70072\n",
       "2       3      M   25          15    55117\n",
       "3       4      M   45           7    02460\n",
       "4       5      M   25          20    55455"
      ]
     },
     "metadata": {},
     "output_type": "display_data"
    },
    {
     "name": "stdout",
     "output_type": "stream",
     "text": [
      "<class 'pandas.core.frame.DataFrame'>\n",
      "RangeIndex: 6042 entries, 0 to 6041\n",
      "Data columns (total 5 columns):\n",
      "UserID        6042 non-null int64\n",
      "Gender        6042 non-null object\n",
      "Age           6042 non-null int64\n",
      "Occupation    6042 non-null int64\n",
      "Zip-code      6042 non-null object\n",
      "dtypes: int64(3), object(2)\n",
      "memory usage: 236.1+ KB\n"
     ]
    },
    {
     "data": {
      "text/plain": [
       "None"
      ]
     },
     "metadata": {},
     "output_type": "display_data"
    }
   ],
   "source": [
    "print (\"Users dataset\")\n",
    "display(data_users.head())\n",
    "display(data_users.info())"
   ]
  },
  {
   "cell_type": "code",
   "execution_count": 6,
   "metadata": {
    "collapsed": false
   },
   "outputs": [
    {
     "name": "stdout",
     "output_type": "stream",
     "text": [
      "Ratings dataset\n"
     ]
    },
    {
     "data": {
      "text/html": [
       "<div>\n",
       "<table border=\"1\" class=\"dataframe\">\n",
       "  <thead>\n",
       "    <tr style=\"text-align: right;\">\n",
       "      <th></th>\n",
       "      <th>UserID</th>\n",
       "      <th>MovieID</th>\n",
       "      <th>Rating</th>\n",
       "      <th>Timestamp</th>\n",
       "    </tr>\n",
       "  </thead>\n",
       "  <tbody>\n",
       "    <tr>\n",
       "      <th>0</th>\n",
       "      <td>1</td>\n",
       "      <td>1193</td>\n",
       "      <td>5</td>\n",
       "      <td>978300760</td>\n",
       "    </tr>\n",
       "    <tr>\n",
       "      <th>1</th>\n",
       "      <td>1</td>\n",
       "      <td>661</td>\n",
       "      <td>3</td>\n",
       "      <td>978302109</td>\n",
       "    </tr>\n",
       "    <tr>\n",
       "      <th>2</th>\n",
       "      <td>1</td>\n",
       "      <td>914</td>\n",
       "      <td>3</td>\n",
       "      <td>978301968</td>\n",
       "    </tr>\n",
       "    <tr>\n",
       "      <th>3</th>\n",
       "      <td>1</td>\n",
       "      <td>3408</td>\n",
       "      <td>4</td>\n",
       "      <td>978300275</td>\n",
       "    </tr>\n",
       "    <tr>\n",
       "      <th>4</th>\n",
       "      <td>1</td>\n",
       "      <td>2355</td>\n",
       "      <td>5</td>\n",
       "      <td>978824291</td>\n",
       "    </tr>\n",
       "  </tbody>\n",
       "</table>\n",
       "</div>"
      ],
      "text/plain": [
       "   UserID  MovieID  Rating  Timestamp\n",
       "0       1     1193       5  978300760\n",
       "1       1      661       3  978302109\n",
       "2       1      914       3  978301968\n",
       "3       1     3408       4  978300275\n",
       "4       1     2355       5  978824291"
      ]
     },
     "metadata": {},
     "output_type": "display_data"
    },
    {
     "name": "stdout",
     "output_type": "stream",
     "text": [
      "<class 'pandas.core.frame.DataFrame'>\n",
      "RangeIndex: 1000249 entries, 0 to 1000248\n",
      "Data columns (total 4 columns):\n",
      "UserID       1000249 non-null int64\n",
      "MovieID      1000249 non-null int64\n",
      "Rating       1000249 non-null int64\n",
      "Timestamp    1000249 non-null int64\n",
      "dtypes: int64(4)\n",
      "memory usage: 30.5 MB\n"
     ]
    },
    {
     "data": {
      "text/plain": [
       "None"
      ]
     },
     "metadata": {},
     "output_type": "display_data"
    }
   ],
   "source": [
    "print (\"Ratings dataset\")\n",
    "display(data_ratings.head())\n",
    "display(data_ratings.info())"
   ]
  },
  {
   "cell_type": "code",
   "execution_count": 41,
   "metadata": {
    "collapsed": false
   },
   "outputs": [],
   "source": [
    "#Data cleaning\n",
    "\n",
    "#Joining df\n",
    "data = pd.merge(data_ratings, data_users, how=\"inner\", on=\"UserID\")\n",
    "data = pd.merge(data, data_movies, how=\"inner\", on=\"MovieID\")\n"
   ]
  },
  {
   "cell_type": "code",
   "execution_count": 42,
   "metadata": {
    "collapsed": false
   },
   "outputs": [
    {
     "data": {
      "text/html": [
       "<div>\n",
       "<table border=\"1\" class=\"dataframe\">\n",
       "  <thead>\n",
       "    <tr style=\"text-align: right;\">\n",
       "      <th></th>\n",
       "      <th>UserID</th>\n",
       "      <th>MovieID</th>\n",
       "      <th>Rating</th>\n",
       "      <th>GenderProcessed</th>\n",
       "      <th>Age</th>\n",
       "      <th>Occupation</th>\n",
       "      <th>GenresProcessed</th>\n",
       "    </tr>\n",
       "  </thead>\n",
       "  <tbody>\n",
       "    <tr>\n",
       "      <th>0</th>\n",
       "      <td>1</td>\n",
       "      <td>1193</td>\n",
       "      <td>5</td>\n",
       "      <td>1</td>\n",
       "      <td>1</td>\n",
       "      <td>10</td>\n",
       "      <td>64</td>\n",
       "    </tr>\n",
       "    <tr>\n",
       "      <th>1</th>\n",
       "      <td>2</td>\n",
       "      <td>1193</td>\n",
       "      <td>5</td>\n",
       "      <td>0</td>\n",
       "      <td>56</td>\n",
       "      <td>16</td>\n",
       "      <td>64</td>\n",
       "    </tr>\n",
       "    <tr>\n",
       "      <th>2</th>\n",
       "      <td>12</td>\n",
       "      <td>1193</td>\n",
       "      <td>4</td>\n",
       "      <td>0</td>\n",
       "      <td>25</td>\n",
       "      <td>12</td>\n",
       "      <td>64</td>\n",
       "    </tr>\n",
       "    <tr>\n",
       "      <th>3</th>\n",
       "      <td>15</td>\n",
       "      <td>1193</td>\n",
       "      <td>4</td>\n",
       "      <td>0</td>\n",
       "      <td>25</td>\n",
       "      <td>7</td>\n",
       "      <td>64</td>\n",
       "    </tr>\n",
       "    <tr>\n",
       "      <th>4</th>\n",
       "      <td>17</td>\n",
       "      <td>1193</td>\n",
       "      <td>5</td>\n",
       "      <td>0</td>\n",
       "      <td>50</td>\n",
       "      <td>1</td>\n",
       "      <td>64</td>\n",
       "    </tr>\n",
       "  </tbody>\n",
       "</table>\n",
       "</div>"
      ],
      "text/plain": [
       "   UserID  MovieID  Rating  GenderProcessed  Age  Occupation  GenresProcessed\n",
       "0       1     1193       5                1    1          10               64\n",
       "1       2     1193       5                0   56          16               64\n",
       "2      12     1193       4                0   25          12               64\n",
       "3      15     1193       4                0   25           7               64\n",
       "4      17     1193       5                0   50           1               64"
      ]
     },
     "metadata": {},
     "output_type": "display_data"
    }
   ],
   "source": [
    "#Feature Extraction\n",
    "\n",
    "def get_genre_id(genres_list):\n",
    "    \"\"\"\n",
    "    return the integer id of a list of genres, \n",
    "    which is the integer corresponding to the binary intersection of the list with all the genres\n",
    "    \"\"\"\n",
    "    # movie genres\n",
    "    genres = [\n",
    "        'Action',\n",
    "        'Adventure',\n",
    "        'Animation',\n",
    "        'Children\\'s',\n",
    "        'Comedy',\n",
    "        'Documentary',\n",
    "        'Drama',\n",
    "        'Fantasy',\n",
    "        'Film-Noir',\n",
    "        'Horror',\n",
    "        'Musical',\n",
    "        'Mystery',\n",
    "        'Romance',\n",
    "        'Sci-Fi',\n",
    "        'Thriller',\n",
    "        'War',\n",
    "        'Western'\n",
    "    ]\n",
    "    # creating id\n",
    "    id = 0\n",
    "    weight = 1\n",
    "    for genre in genres:\n",
    "        if genre in genres_list:\n",
    "            id += weight\n",
    "        weight*=2\n",
    "    return id\n",
    "\n",
    "\n",
    "data['GenresProcessed'] = data['Genres'].apply(get_genre_id)\n",
    "data['GenderProcessed'] = data['Gender'].apply(lambda x: 0 if x == 'M' else 1)\n",
    "\n",
    "#Droping unwanted columns\n",
    "#data = data.drop(\"Zip-code\", 1)\n",
    "#data = data.drop(\"Timestamp\", 1)\n",
    "#data = data.drop(\"Title\", 1)\n",
    "#data = data.drop(\"MovieID\", 1)\n",
    "#data = data.drop(\"UserID\", 1)\n",
    "columns = ['UserID', 'MovieID', 'Rating', 'GenderProcessed', 'Age', 'Occupation', 'GenresProcessed']\n",
    "data = data[columns]\n",
    "\n",
    "\n",
    "display(data.head())\n"
   ]
  },
  {
   "cell_type": "markdown",
   "metadata": {},
   "source": [
    "### Train/Validation/Test split\n",
    "\n",
    "We now construct a function to split our dataset into three different sets:\n",
    "\n",
    "- A training set, which will be used to build the classifiers\n",
    "- A validation set, which will be used to determine the best hyperparameters of the classifiers (for example, the maximum depth of the three)\n",
    "- A test set, which will be used to measure the performance\n",
    "\n",
    "We will randomly construct the sets, and we will spit the sets with 60%, 20% and 20% of the shuffled data, respectively for the trainig, validation and test sets."
   ]
  },
  {
   "cell_type": "code",
   "execution_count": 43,
   "metadata": {
    "collapsed": false
   },
   "outputs": [
    {
     "name": "stdout",
     "output_type": "stream",
     "text": [
      "Training set size: 600148\n",
      "Validation set size: 200050\n",
      "Test set size: 200051\n"
     ]
    }
   ],
   "source": [
    "def dataset_split(df, label_name, train_size=0.6, validation_size=0.2):\n",
    "    \"\"\"\n",
    "    splits the data into training, validation and test sets\n",
    "    \"\"\"\n",
    "    \n",
    "    # empty dataframes\n",
    "    train_set = pd.DataFrame(columns=list(df.columns))\n",
    "    validation_set = pd.DataFrame(columns=list(df.columns))\n",
    "    test_set = pd.DataFrame(columns=list(df.columns))\n",
    "    \n",
    "    # stratify sampling\n",
    "    labels = df[label_name].unique()\n",
    "    for label in labels:\n",
    "        label_df = df.ix[df[label_name] == label]\n",
    "        label_df = label_df.sample(frac=1) #randomize\n",
    "        size = len(label_df.index)\n",
    "        validation_start = int(train_size*size)\n",
    "        test_start = int((train_size+validation_size)*size)\n",
    "        train_set = pd.concat([train_set, label_df[:validation_start]])\n",
    "        validation_set = pd.concat([validation_set, label_df[validation_start:test_start]])\n",
    "        test_set = pd.concat([test_set, label_df[test_start:]])\n",
    "    \n",
    "    # randomizing\n",
    "    train_set = train_set.sample(frac=1)\n",
    "    validation_set = validation_set.sample(frac=1)\n",
    "    test_set = test_set.sample(frac=1)\n",
    "    \n",
    "    return train_set, validation_set, test_set\n",
    "\n",
    "train_set, validation_set, test_set = dataset_split(data,'Rating')\n",
    "\n",
    "#Convert rating to int\n",
    "train_set[columns] = train_set[columns].astype(int)\n",
    "validation_set[columns] = validation_set[columns].astype(int)\n",
    "test_set[columns] = test_set[columns].astype(int)\n",
    "\n",
    "print (\"Training set size: \" + str(len(train_set.index)))\n",
    "print (\"Validation set size: \" + str(len(validation_set.index)))\n",
    "print (\"Test set size: \" + str(len(test_set.index)))\n"
   ]
  },
  {
   "cell_type": "code",
   "execution_count": 14,
   "metadata": {
    "collapsed": false
   },
   "outputs": [
    {
     "data": {
      "text/plain": [
       "array([5, 4, 3, 2, 1])"
      ]
     },
     "execution_count": 14,
     "metadata": {},
     "output_type": "execute_result"
    }
   ],
   "source": [
    "data['Rating'].unique()"
   ]
  },
  {
   "cell_type": "markdown",
   "metadata": {},
   "source": [
    "### Naive Bayes Classifier\n",
    "\n",
    "Using the naive bayes classifier implemented in classifier.py, we get:"
   ]
  },
  {
   "cell_type": "code",
   "execution_count": 74,
   "metadata": {
    "collapsed": false
   },
   "outputs": [
    {
     "name": "stdout",
     "output_type": "stream",
     "text": [
      "1 0 {0: 0.7604141941609305, 1: 0.23958580583906955}\n",
      "1 1 {50: 0.053257773558034655, 1: 0.04097436506052694, 18: 0.2334441015903157, 35: 0.16149418466650842, 56: 0.028186565392831712, 25: 0.4215820080702587, 45: 0.06106100166152385}\n",
      "1 2 {0: 0.13924163304058865, 1: 0.08375860431996202, 2: 0.0552159981011156, 3: 0.026732732019938286, 4: 0.16279966769522905, 5: 0.018692143365772608, 6: 0.03652385473534299, 7: 0.09138381201044386, 8: 0.003026347021125089, 9: 0.00682411583194873, 10: 0.03765131735105626, 11: 0.023736055067647758, 12: 0.044683123664846905, 13: 0.0075955376216472826, 14: 0.041449086161879894, 15: 0.01649655827201519, 16: 0.03515903156895324, 17: 0.058835746498931876, 18: 0.010325183954426774, 19: 0.02610966057441253, 20: 0.0737597911227154}\n",
      "2 0 {0: 0.771035423187777, 1: 0.22896457681222301}\n",
      "2 1 {50: 0.055583103480335946, 1: 0.02809371804010289, 18: 0.20683670623237363, 35: 0.18817987417485357, 56: 0.02820218799392568, 25: 0.41587380295658105, 45: 0.07723060712182725}\n",
      "2 2 {0: 0.13569591223231164, 1: 0.08414169275110794, 2: 0.050577989896798584, 3: 0.029038956209130072, 4: 0.1447609012303592, 5: 0.02389438125639198, 6: 0.0309449282548734, 7: 0.1010939969628413, 8: 0.002773731676325658, 9: 0.010025722874763691, 10: 0.023847894133325068, 11: 0.01989648867263768, 12: 0.05287135463476617, 13: 0.01104843958223572, 14: 0.048455077943409676, 15: 0.021120649580066323, 16: 0.04537143211330461, 17: 0.0673908327393312, 18: 0.012195121951219513, 19: 0.01695230421173335, 20: 0.06790219109306722}\n",
      "3 0 {0: 0.7589249822936008, 1: 0.2410750177063992}\n",
      "3 1 {50: 0.07086388085986103, 1: 0.02442525985337187, 18: 0.18237910198247864, 35: 0.2030716614664089, 56: 0.03490872430976947, 25: 0.3997817805937865, 45: 0.08456959093432362}\n",
      "3 2 {0: 0.1360361912418726, 1: 0.08614561997919896, 2: 0.04966724730894636, 3: 0.030097688278044703, 4: 0.126994761458114, 5: 0.024642203122706943, 6: 0.03518947442302661, 7: 0.10607887802045647, 8: 0.0030499671394753802, 9: 0.012187107189117105, 10: 0.020839315224951027, 11: 0.018440177893480854, 12: 0.054912169879341256, 13: 0.012474237986766461, 14: 0.048965372025803484, 15: 0.021247679026052336, 16: 0.047159638342808646, 17: 0.0768042980290066, 18: 0.013775897602776874, 19: 0.015409352807182098, 20: 0.05988272302087122}\n",
      "4 0 {0: 0.7495594450679338, 1: 0.2504405549320662}\n",
      "4 1 {50: 0.07626734162706846, 1: 0.02532534205687815, 18: 0.17294586785739868, 35: 0.20612717591155472, 56: 0.040841471859404475, 25: 0.3916664676806992, 45: 0.08682633300699635}\n",
      "4 2 {0: 0.12672222354879534, 1: 0.08826380763628548, 2: 0.04795243439432651, 3: 0.03231213734807421, 4: 0.12408605745122854, 5: 0.020640416437832803, 6: 0.038587358819456054, 7: 0.10982592707562262, 8: 0.0027746603309534612, 9: 0.011943933713794503, 10: 0.02136631724730772, 11: 0.02101769383223095, 12: 0.059700565916091596, 13: 0.014556221495260153, 14: 0.04998686692614437, 15: 0.024895532367057476, 16: 0.04731249552281573, 17: 0.07482986699777931, 18: 0.012225697843788056, 19: 0.012879963704959526, 20: 0.058119821390195565}\n",
      "5 0 {0: 0.7420466595970308, 1: 0.25795334040296924}\n",
      "5 1 {50: 0.08223606692588666, 1: 0.029604100388829976, 18: 0.1801578885354071, 35: 0.19740485448332745, 56: 0.04786732649935195, 25: 0.37771739130434784, 45: 0.08501237186284906}\n",
      "5 2 {0: 0.12341669612348298, 1: 0.08267791917049605, 2: 0.051674620007069634, 3: 0.033934252386002124, 4: 0.13430835395310475, 5: 0.021046895251561212, 6: 0.040238011075762935, 7: 0.10149346058677979, 8: 0.0020693413455873688, 9: 0.011598621420996819, 10: 0.025465417697655236, 11: 0.022814304229998823, 12: 0.0606736773889478, 13: 0.017114410274537528, 14: 0.04998085306940026, 15: 0.025001472840815366, 16: 0.04433987274655355, 17: 0.07163161305526099, 18: 0.010169965830093084, 19: 0.01402144456227171, 20: 0.05632879698362201}\n",
      "Classifier trained.\n"
     ]
    }
   ],
   "source": [
    "from classifier import NaiveBayesClassifier\n",
    "\n",
    "trainX = train_set.drop(['Rating', 'UserID', 'MovieID', 'GenresProcessed'], axis=1).values\n",
    "trainY = train_set['Rating'].values\n",
    "\n",
    "# display(trainX)\n",
    "# display(trainY)\n",
    "# display(np.shape(trainX))\n",
    "# display(np.shape(trainY))\n",
    "# display(np.unique(trainY))\n",
    "\n",
    "nb = NaiveBayesClassifier()\n",
    "\n",
    "nb.fit(trainX, trainY)\n",
    "\n",
    "\n",
    "print (\"Classifier trained.\")"
   ]
  },
  {
   "cell_type": "code",
   "execution_count": 71,
   "metadata": {
    "collapsed": false
   },
   "outputs": [
    {
     "name": "stdout",
     "output_type": "stream",
     "text": [
      " Predicting ratings for all movies seen by users 6041 and 6042...\n",
      "Tree prediction for user 6041 and movie 527:  4.0\n",
      "Tree prediction for user 6042 and movie 527:  4.0\n",
      "Tree prediction for user 6041 and movie 260:  4.0\n",
      "Tree prediction for user 6042 and movie 260:  4.0\n",
      "Tree prediction for user 6041 and movie 608:  4.0\n",
      "Tree prediction for user 6042 and movie 608:  4.0\n",
      "Tree prediction for user 6041 and movie 1246:  4.0\n",
      "Tree prediction for user 6042 and movie 1246:  4.0\n",
      "Tree prediction for user 6041 and movie 1225:  4.0\n",
      "Tree prediction for user 6042 and movie 1225:  4.0\n",
      "Tree prediction for user 6041 and movie 318:  4.0\n",
      "Tree prediction for user 6042 and movie 318:  4.0\n",
      "Tree prediction for user 6041 and movie 215:  4.0\n",
      "Tree prediction for user 6042 and movie 215:  4.0\n",
      "Tree prediction for user 6041 and movie 47:  4.0\n",
      "Tree prediction for user 6042 and movie 47:  4.0\n",
      "Tree prediction for user 6041 and movie 296:  4.0\n",
      "Tree prediction for user 6042 and movie 296:  4.0\n",
      "Tree prediction for user 6041 and movie 50:  4.0\n",
      "Tree prediction for user 6042 and movie 50:  4.0\n",
      "Tree prediction for user 6041 and movie 1732:  4.0\n",
      "Tree prediction for user 6042 and movie 1732:  4.0\n",
      "Tree prediction for user 6041 and movie 73:  4.0\n",
      "Tree prediction for user 6042 and movie 73:  4.0\n",
      "Tree prediction for user 6041 and movie 924:  4.0\n",
      "Tree prediction for user 6042 and movie 924:  4.0\n",
      "Tree prediction for user 6041 and movie 1203:  4.0\n",
      "Tree prediction for user 6042 and movie 1203:  4.0\n",
      "Tree prediction for user 6041 and movie 3503:  4.0\n",
      "Tree prediction for user 6042 and movie 3503:  4.0\n",
      "Tree prediction for user 6041 and movie 1206:  4.0\n",
      "Tree prediction for user 6042 and movie 1206:  4.0\n",
      "Tree prediction for user 6041 and movie 771:  4.0\n",
      "Tree prediction for user 6042 and movie 771:  4.0\n",
      "Tree prediction for user 6041 and movie 1222:  4.0\n",
      "Tree prediction for user 6042 and movie 1222:  4.0\n",
      "Tree prediction for user 6041 and movie 673:  4.0\n",
      "Tree prediction for user 6042 and movie 673:  4.0\n",
      "Tree prediction for user 6041 and movie 1298:  4.0\n",
      "Tree prediction for user 6042 and movie 1298:  4.0\n"
     ]
    }
   ],
   "source": [
    "#Show results for user 6041 and 6042\n",
    "print (\" Predicting ratings for all movies seen by users 6041 and 6042...\")\n",
    "rows = data.ix[data['UserID'].isin([6041,6042])]\n",
    "\n",
    "for _, row in rows.iterrows():\n",
    "    row_pred = row.drop(['Rating', 'UserID', 'MovieID', 'GenresProcessed'])\n",
    "    #display(row.shape)\n",
    "    #display(row.values)\n",
    "    prediction = nb.predict(np.array([row_pred.values]))\n",
    "    print (\"Tree prediction for user \" + str(row['UserID']) + \" and movie \" + str(row['MovieID']) + \": \", str(prediction[0][0]))\n"
   ]
  },
  {
   "cell_type": "markdown",
   "metadata": {},
   "source": [
    "## Measuring performance\n",
    "\n",
    "Lets build some usefull functions to better measure the performance of a classifier. First of all, \n",
    "we'll build a function to plot the confusion matrix in a more user friendly display let's test this with the confusion matrix from the classifier we built above, for the test set.\n",
    "\n"
   ]
  },
  {
   "cell_type": "code",
   "execution_count": 75,
   "metadata": {
    "collapsed": false
   },
   "outputs": [
    {
     "name": "stdout",
     "output_type": "stream",
     "text": [
      "Predicting ratings for test set. This may take a while...\n",
      "Done. Plotting the confusion matrix\n"
     ]
    },
    {
     "data": {
      "image/png": "[encoded data removed]",
      "text/plain": [
       "<matplotlib.figure.Figure at 0x7f2c72604978>"
      ]
     },
     "metadata": {},
     "output_type": "display_data"
    }
   ],
   "source": [
    "%matplotlib inline\n",
    "import matplotlib.pyplot as plt\n",
    "import itertools\n",
    "\n",
    "def plot_confusion_matrix(matrix_in, classes, cmap=plt.cm.Blues):\n",
    "    classes.sort()\n",
    "    matrix = []\n",
    "    for s_class in classes:\n",
    "        row = []\n",
    "        for o_class in classes:\n",
    "            row.append(matrix_in[o_class][s_class])\n",
    "        matrix.append(row)\n",
    "    cm = np.array(matrix, dtype=int)\n",
    "    \n",
    "    plt.imshow(cm, interpolation='nearest', cmap=cmap)\n",
    "    plt.title(\"Confusion matrix\")\n",
    "    plt.colorbar()\n",
    "    tick_marks = np.arange(len(classes))\n",
    "    plt.xticks(tick_marks, classes)\n",
    "    plt.yticks(tick_marks,classes)\n",
    "    \n",
    "    thresh = cm.max() / 2.\n",
    "    for i, j in itertools.product(range(cm.shape[0]), range(cm.shape[1])):\n",
    "        plt.text(j, i, cm[i, j],\n",
    "                 horizontalalignment=\"center\",\n",
    "                 color=\"white\" if cm[i, j] > thresh else \"black\")\n",
    "    plt.tight_layout()\n",
    "    plt.ylabel('True label')\n",
    "    plt.xlabel('Predicted label')\n",
    "    \n",
    "X_test = train_set.drop(['Rating', 'UserID', 'MovieID', 'GenresProcessed'], axis=1).values\n",
    "Y_test = train_set['Rating'].values\n",
    "labels = data['Rating'].unique()\n",
    "\n",
    "print (\"Predicting ratings for test set. This may take a while...\")\n",
    "confusion_matrix = nb.score(X_test, Y_test, labels)\n",
    "print (\"Done. Plotting the confusion matrix\")\n",
    "plot_confusion_matrix(confusion_matrix, labels)"
   ]
  },
  {
   "cell_type": "code",
   "execution_count": 10,
   "metadata": {
    "collapsed": false
   },
   "outputs": [
    {
     "ename": "ValueError",
     "evalue": "labels ['MovieID'] not contained in axis",
     "output_type": "error",
     "traceback": [
      "\u001b[0;31m---------------------------------------------------------------------------\u001b[0m",
      "\u001b[0;31mValueError\u001b[0m                                Traceback (most recent call last)",
      "\u001b[0;32m<ipython-input-10-7f6e7c1d022d>\u001b[0m in \u001b[0;36m<module>\u001b[0;34m()\u001b[0m\n\u001b[1;32m      1\u001b[0m \u001b[0mdata\u001b[0m\u001b[0;34m.\u001b[0m\u001b[0mdrop\u001b[0m\u001b[0;34m(\u001b[0m\u001b[0;34m\"Genres\"\u001b[0m\u001b[0;34m,\u001b[0m \u001b[0;36m1\u001b[0m\u001b[0;34m)\u001b[0m\u001b[0;34m\u001b[0m\u001b[0m\n\u001b[0;32m----> 2\u001b[0;31m \u001b[0mdata\u001b[0m \u001b[0;34m=\u001b[0m \u001b[0mdata\u001b[0m\u001b[0;34m.\u001b[0m\u001b[0mdrop\u001b[0m\u001b[0;34m(\u001b[0m\u001b[0;34m\"MovieID\"\u001b[0m\u001b[0;34m,\u001b[0m \u001b[0;36m1\u001b[0m\u001b[0;34m)\u001b[0m\u001b[0;34m\u001b[0m\u001b[0m\n\u001b[0m\u001b[1;32m      3\u001b[0m \u001b[0mdata\u001b[0m \u001b[0;34m=\u001b[0m \u001b[0mdata\u001b[0m\u001b[0;34m.\u001b[0m\u001b[0mdrop\u001b[0m\u001b[0;34m(\u001b[0m\u001b[0;34m\"UserID\"\u001b[0m\u001b[0;34m,\u001b[0m \u001b[0;36m1\u001b[0m\u001b[0;34m)\u001b[0m\u001b[0;34m\u001b[0m\u001b[0m\n\u001b[1;32m      4\u001b[0m \u001b[0;34m\u001b[0m\u001b[0m\n\u001b[1;32m      5\u001b[0m \u001b[0mdata\u001b[0m\u001b[0;34m\u001b[0m\u001b[0m\n",
      "\u001b[0;32m/home/muzio/Apps/anaconda3/lib/python3.5/site-packages/pandas/core/generic.py\u001b[0m in \u001b[0;36mdrop\u001b[0;34m(self, labels, axis, level, inplace, errors)\u001b[0m\n\u001b[1;32m   1905\u001b[0m                 \u001b[0mnew_axis\u001b[0m \u001b[0;34m=\u001b[0m \u001b[0maxis\u001b[0m\u001b[0;34m.\u001b[0m\u001b[0mdrop\u001b[0m\u001b[0;34m(\u001b[0m\u001b[0mlabels\u001b[0m\u001b[0;34m,\u001b[0m \u001b[0mlevel\u001b[0m\u001b[0;34m=\u001b[0m\u001b[0mlevel\u001b[0m\u001b[0;34m,\u001b[0m \u001b[0merrors\u001b[0m\u001b[0;34m=\u001b[0m\u001b[0merrors\u001b[0m\u001b[0;34m)\u001b[0m\u001b[0;34m\u001b[0m\u001b[0m\n\u001b[1;32m   1906\u001b[0m             \u001b[0;32melse\u001b[0m\u001b[0;34m:\u001b[0m\u001b[0;34m\u001b[0m\u001b[0m\n\u001b[0;32m-> 1907\u001b[0;31m                 \u001b[0mnew_axis\u001b[0m \u001b[0;34m=\u001b[0m \u001b[0maxis\u001b[0m\u001b[0;34m.\u001b[0m\u001b[0mdrop\u001b[0m\u001b[0;34m(\u001b[0m\u001b[0mlabels\u001b[0m\u001b[0;34m,\u001b[0m \u001b[0merrors\u001b[0m\u001b[0;34m=\u001b[0m\u001b[0merrors\u001b[0m\u001b[0;34m)\u001b[0m\u001b[0;34m\u001b[0m\u001b[0m\n\u001b[0m\u001b[1;32m   1908\u001b[0m             \u001b[0mdropped\u001b[0m \u001b[0;34m=\u001b[0m \u001b[0mself\u001b[0m\u001b[0;34m.\u001b[0m\u001b[0mreindex\u001b[0m\u001b[0;34m(\u001b[0m\u001b[0;34m**\u001b[0m\u001b[0;34m{\u001b[0m\u001b[0maxis_name\u001b[0m\u001b[0;34m:\u001b[0m \u001b[0mnew_axis\u001b[0m\u001b[0;34m}\u001b[0m\u001b[0;34m)\u001b[0m\u001b[0;34m\u001b[0m\u001b[0m\n\u001b[1;32m   1909\u001b[0m             \u001b[0;32mtry\u001b[0m\u001b[0;34m:\u001b[0m\u001b[0;34m\u001b[0m\u001b[0m\n",
      "\u001b[0;32m/home/muzio/Apps/anaconda3/lib/python3.5/site-packages/pandas/indexes/base.py\u001b[0m in \u001b[0;36mdrop\u001b[0;34m(self, labels, errors)\u001b[0m\n\u001b[1;32m   3225\u001b[0m             \u001b[0;32mif\u001b[0m \u001b[0merrors\u001b[0m \u001b[0;34m!=\u001b[0m \u001b[0;34m'ignore'\u001b[0m\u001b[0;34m:\u001b[0m\u001b[0;34m\u001b[0m\u001b[0m\n\u001b[1;32m   3226\u001b[0m                 raise ValueError('labels %s not contained in axis' %\n\u001b[0;32m-> 3227\u001b[0;31m                                  labels[mask])\n\u001b[0m\u001b[1;32m   3228\u001b[0m             \u001b[0mindexer\u001b[0m \u001b[0;34m=\u001b[0m \u001b[0mindexer\u001b[0m\u001b[0;34m[\u001b[0m\u001b[0;34m~\u001b[0m\u001b[0mmask\u001b[0m\u001b[0;34m]\u001b[0m\u001b[0;34m\u001b[0m\u001b[0m\n\u001b[1;32m   3229\u001b[0m         \u001b[0;32mreturn\u001b[0m \u001b[0mself\u001b[0m\u001b[0;34m.\u001b[0m\u001b[0mdelete\u001b[0m\u001b[0;34m(\u001b[0m\u001b[0mindexer\u001b[0m\u001b[0;34m)\u001b[0m\u001b[0;34m\u001b[0m\u001b[0m\n",
      "\u001b[0;31mValueError\u001b[0m: labels ['MovieID'] not contained in axis"
     ]
    }
   ],
   "source": [
    "data.drop(\"Genres\", 1)\n",
    "data = data.drop(\"MovieID\", 1)\n",
    "data = data.drop(\"UserID\", 1)\n",
    "\n"
   ]
  },
  {
   "cell_type": "markdown",
   "metadata": {},
   "source": [
    "### Calculating scores\n",
    "\n",
    "We will now build a function that, given a confusion matrix, computes the accuracy, mean square error and Kappa score."
   ]
  },
  {
   "cell_type": "code",
   "execution_count": 77,
   "metadata": {
    "collapsed": false
   },
   "outputs": [
    {
     "name": "stdout",
     "output_type": "stream",
     "text": [
      "Accuracy: 0.34890560328452314\n",
      "Mean Square Error: 1.4229606697\n",
      "Kappa score: 0.0\n"
     ]
    }
   ],
   "source": [
    "def get_statistics(confusion_matrix, labels): \n",
    "    \"\"\"\n",
    "    compute accuracy, mean square error and kappa \n",
    "    \"\"\"\n",
    "    total = 0.0\n",
    "    rights = 0.0\n",
    "    error = 0.0\n",
    "    true_totals = np.zeros(len(labels)+1)\n",
    "    predict_totals = np.zeros(len(labels)+1)\n",
    "    for true_label in labels:\n",
    "        for predicted_label in labels:\n",
    "            current_val = confusion_matrix[predicted_label][true_label]\n",
    "            total += current_val\n",
    "            error += abs(true_label-predicted_label)**2 * current_val\n",
    "            predict_totals[int(predicted_label)] += current_val\n",
    "            true_totals[int(true_label)] += current_val\n",
    "        rights += confusion_matrix[true_label][true_label]\n",
    "    accuracy = rights/total\n",
    "    error /= total\n",
    "    \n",
    "    ef = 0.0\n",
    "    for label in labels:\n",
    "        ef += true_totals[int(label)]*predict_totals[int(label)]/total\n",
    "    K = (rights-ef)/(total-ef)\n",
    "    return accuracy, error, K\n",
    "\n",
    "accuracy, error, kappa = get_statistics(confusion_matrix, labels)\n",
    "print (\"Accuracy:\", accuracy)\n",
    "print (\"Mean Square Error:\", error)\n",
    "print (\"Kappa score:\", kappa )"
   ]
  },
  {
   "cell_type": "code",
   "execution_count": null,
   "metadata": {
    "collapsed": true
   },
   "outputs": [],
   "source": []
  }
 ],
 "metadata": {
  "anaconda-cloud": {},
  "kernelspec": {
   "display_name": "Python [default]",
   "language": "python",
   "name": "python3"
  }
 },
 "nbformat": 4,
 "nbformat_minor": 1
}
