{
 "cells": [
  {
   "cell_type": "markdown",
   "metadata": {},
   "source": [
    "# Movie Classification using Naive Bayes Classifier"
   ]
  },
  {
   "cell_type": "markdown",
   "metadata": {},
   "source": [
    "## 1. Data\n",
    "The dataset is composed of 3 files.\n",
    "\n",
    "* **movies.dat** - movie information (title and genre)\n",
    "* **users.dat** - user information (including gender, age, occupation...)\n",
    "* **ratings.dat** - movie ratings given by users"
   ]
  },
  {
   "cell_type": "code",
   "execution_count": 78,
   "metadata": {
    "collapsed": true
   },
   "outputs": [],
   "source": [
    "import pandas as pd\n",
    "import numpy as np\n",
    "\n",
    "from IPython.display import display, HTML"
   ]
  },
  {
   "cell_type": "code",
   "execution_count": 79,
   "metadata": {
    "collapsed": false
   },
   "outputs": [],
   "source": [
    "DATA_PATH = \"../data\"\n",
    "\n",
    "data_movies = pd.read_csv(DATA_PATH + \"/movies.dat\", delimiter=\"::\", header=None, engine=\"python\",\n",
    "                         names=[\"MovieID\", \"Title\", \"Genres\"])\n",
    "\n",
    "data_users = pd.read_csv(DATA_PATH + \"/users.dat\", delimiter=\"::\", header=None, engine=\"python\",\n",
    "                         names=[\"UserID\", \"Gender\", \"Age\", \"Occupation\", \"Zip-code\"])\n",
    "\n",
    "data_ratings = pd.read_csv(DATA_PATH + \"/ratings.dat\", delimiter=\"::\", header=None, engine=\"python\",\n",
    "                         names=[\"UserID\", \"MovieID\", \"Rating\", \"Timestamp\"])\n"
   ]
  },
  {
   "cell_type": "markdown",
   "metadata": {},
   "source": [
    "Some simple data visualization..."
   ]
  },
  {
   "cell_type": "code",
   "execution_count": 80,
   "metadata": {
    "collapsed": false
   },
   "outputs": [
    {
     "name": "stdout",
     "output_type": "stream",
     "text": [
      "Movies dataset\n"
     ]
    },
    {
     "data": {
      "text/html": [
       "<div>\n",
       "<table border=\"1\" class=\"dataframe\">\n",
       "  <thead>\n",
       "    <tr style=\"text-align: right;\">\n",
       "      <th></th>\n",
       "      <th>MovieID</th>\n",
       "      <th>Title</th>\n",
       "      <th>Genres</th>\n",
       "    </tr>\n",
       "  </thead>\n",
       "  <tbody>\n",
       "    <tr>\n",
       "      <th>0</th>\n",
       "      <td>1</td>\n",
       "      <td>Toy Story (1995)</td>\n",
       "      <td>Animation|Children's|Comedy</td>\n",
       "    </tr>\n",
       "    <tr>\n",
       "      <th>1</th>\n",
       "      <td>2</td>\n",
       "      <td>Jumanji (1995)</td>\n",
       "      <td>Adventure|Children's|Fantasy</td>\n",
       "    </tr>\n",
       "    <tr>\n",
       "      <th>2</th>\n",
       "      <td>3</td>\n",
       "      <td>Grumpier Old Men (1995)</td>\n",
       "      <td>Comedy|Romance</td>\n",
       "    </tr>\n",
       "    <tr>\n",
       "      <th>3</th>\n",
       "      <td>4</td>\n",
       "      <td>Waiting to Exhale (1995)</td>\n",
       "      <td>Comedy|Drama</td>\n",
       "    </tr>\n",
       "    <tr>\n",
       "      <th>4</th>\n",
       "      <td>5</td>\n",
       "      <td>Father of the Bride Part II (1995)</td>\n",
       "      <td>Comedy</td>\n",
       "    </tr>\n",
       "  </tbody>\n",
       "</table>\n",
       "</div>"
      ],
      "text/plain": [
       "   MovieID                               Title                        Genres\n",
       "0        1                    Toy Story (1995)   Animation|Children's|Comedy\n",
       "1        2                      Jumanji (1995)  Adventure|Children's|Fantasy\n",
       "2        3             Grumpier Old Men (1995)                Comedy|Romance\n",
       "3        4            Waiting to Exhale (1995)                  Comedy|Drama\n",
       "4        5  Father of the Bride Part II (1995)                        Comedy"
      ]
     },
     "metadata": {},
     "output_type": "display_data"
    },
    {
     "name": "stdout",
     "output_type": "stream",
     "text": [
      "<class 'pandas.core.frame.DataFrame'>\n",
      "RangeIndex: 3883 entries, 0 to 3882\n",
      "Data columns (total 3 columns):\n",
      "MovieID    3883 non-null int64\n",
      "Title      3883 non-null object\n",
      "Genres     3883 non-null object\n",
      "dtypes: int64(1), object(2)\n",
      "memory usage: 91.1+ KB\n"
     ]
    },
    {
     "data": {
      "text/plain": [
       "None"
      ]
     },
     "metadata": {},
     "output_type": "display_data"
    }
   ],
   "source": [
    "print (\"Movies dataset\")\n",
    "display(data_movies.head())\n",
    "display(data_movies.info())"
   ]
  },
  {
   "cell_type": "code",
   "execution_count": 81,
   "metadata": {
    "collapsed": false
   },
   "outputs": [
    {
     "name": "stdout",
     "output_type": "stream",
     "text": [
      "Users dataset\n"
     ]
    },
    {
     "data": {
      "text/html": [
       "<div>\n",
       "<table border=\"1\" class=\"dataframe\">\n",
       "  <thead>\n",
       "    <tr style=\"text-align: right;\">\n",
       "      <th></th>\n",
       "      <th>UserID</th>\n",
       "      <th>Gender</th>\n",
       "      <th>Age</th>\n",
       "      <th>Occupation</th>\n",
       "      <th>Zip-code</th>\n",
       "    </tr>\n",
       "  </thead>\n",
       "  <tbody>\n",
       "    <tr>\n",
       "      <th>0</th>\n",
       "      <td>1</td>\n",
       "      <td>F</td>\n",
       "      <td>1</td>\n",
       "      <td>10</td>\n",
       "      <td>48067</td>\n",
       "    </tr>\n",
       "    <tr>\n",
       "      <th>1</th>\n",
       "      <td>2</td>\n",
       "      <td>M</td>\n",
       "      <td>56</td>\n",
       "      <td>16</td>\n",
       "      <td>70072</td>\n",
       "    </tr>\n",
       "    <tr>\n",
       "      <th>2</th>\n",
       "      <td>3</td>\n",
       "      <td>M</td>\n",
       "      <td>25</td>\n",
       "      <td>15</td>\n",
       "      <td>55117</td>\n",
       "    </tr>\n",
       "    <tr>\n",
       "      <th>3</th>\n",
       "      <td>4</td>\n",
       "      <td>M</td>\n",
       "      <td>45</td>\n",
       "      <td>7</td>\n",
       "      <td>02460</td>\n",
       "    </tr>\n",
       "    <tr>\n",
       "      <th>4</th>\n",
       "      <td>5</td>\n",
       "      <td>M</td>\n",
       "      <td>25</td>\n",
       "      <td>20</td>\n",
       "      <td>55455</td>\n",
       "    </tr>\n",
       "  </tbody>\n",
       "</table>\n",
       "</div>"
      ],
      "text/plain": [
       "   UserID Gender  Age  Occupation Zip-code\n",
       "0       1      F    1          10    48067\n",
       "1       2      M   56          16    70072\n",
       "2       3      M   25          15    55117\n",
       "3       4      M   45           7    02460\n",
       "4       5      M   25          20    55455"
      ]
     },
     "metadata": {},
     "output_type": "display_data"
    },
    {
     "name": "stdout",
     "output_type": "stream",
     "text": [
      "<class 'pandas.core.frame.DataFrame'>\n",
      "RangeIndex: 6042 entries, 0 to 6041\n",
      "Data columns (total 5 columns):\n",
      "UserID        6042 non-null int64\n",
      "Gender        6042 non-null object\n",
      "Age           6042 non-null int64\n",
      "Occupation    6042 non-null int64\n",
      "Zip-code      6042 non-null object\n",
      "dtypes: int64(3), object(2)\n",
      "memory usage: 236.1+ KB\n"
     ]
    },
    {
     "data": {
      "text/plain": [
       "None"
      ]
     },
     "metadata": {},
     "output_type": "display_data"
    }
   ],
   "source": [
    "print (\"Users dataset\")\n",
    "display(data_users.head())\n",
    "display(data_users.info())"
   ]
  },
  {
   "cell_type": "code",
   "execution_count": 82,
   "metadata": {
    "collapsed": false
   },
   "outputs": [
    {
     "name": "stdout",
     "output_type": "stream",
     "text": [
      "Ratings dataset\n"
     ]
    },
    {
     "data": {
      "text/html": [
       "<div>\n",
       "<table border=\"1\" class=\"dataframe\">\n",
       "  <thead>\n",
       "    <tr style=\"text-align: right;\">\n",
       "      <th></th>\n",
       "      <th>UserID</th>\n",
       "      <th>MovieID</th>\n",
       "      <th>Rating</th>\n",
       "      <th>Timestamp</th>\n",
       "    </tr>\n",
       "  </thead>\n",
       "  <tbody>\n",
       "    <tr>\n",
       "      <th>0</th>\n",
       "      <td>1</td>\n",
       "      <td>1193</td>\n",
       "      <td>5</td>\n",
       "      <td>978300760</td>\n",
       "    </tr>\n",
       "    <tr>\n",
       "      <th>1</th>\n",
       "      <td>1</td>\n",
       "      <td>661</td>\n",
       "      <td>3</td>\n",
       "      <td>978302109</td>\n",
       "    </tr>\n",
       "    <tr>\n",
       "      <th>2</th>\n",
       "      <td>1</td>\n",
       "      <td>914</td>\n",
       "      <td>3</td>\n",
       "      <td>978301968</td>\n",
       "    </tr>\n",
       "    <tr>\n",
       "      <th>3</th>\n",
       "      <td>1</td>\n",
       "      <td>3408</td>\n",
       "      <td>4</td>\n",
       "      <td>978300275</td>\n",
       "    </tr>\n",
       "    <tr>\n",
       "      <th>4</th>\n",
       "      <td>1</td>\n",
       "      <td>2355</td>\n",
       "      <td>5</td>\n",
       "      <td>978824291</td>\n",
       "    </tr>\n",
       "  </tbody>\n",
       "</table>\n",
       "</div>"
      ],
      "text/plain": [
       "   UserID  MovieID  Rating  Timestamp\n",
       "0       1     1193       5  978300760\n",
       "1       1      661       3  978302109\n",
       "2       1      914       3  978301968\n",
       "3       1     3408       4  978300275\n",
       "4       1     2355       5  978824291"
      ]
     },
     "metadata": {},
     "output_type": "display_data"
    },
    {
     "name": "stdout",
     "output_type": "stream",
     "text": [
      "<class 'pandas.core.frame.DataFrame'>\n",
      "RangeIndex: 1000249 entries, 0 to 1000248\n",
      "Data columns (total 4 columns):\n",
      "UserID       1000249 non-null int64\n",
      "MovieID      1000249 non-null int64\n",
      "Rating       1000249 non-null int64\n",
      "Timestamp    1000249 non-null int64\n",
      "dtypes: int64(4)\n",
      "memory usage: 30.5 MB\n"
     ]
    },
    {
     "data": {
      "text/plain": [
       "None"
      ]
     },
     "metadata": {},
     "output_type": "display_data"
    }
   ],
   "source": [
    "print (\"Ratings dataset\")\n",
    "display(data_ratings.head())\n",
    "display(data_ratings.info())"
   ]
  },
  {
   "cell_type": "code",
   "execution_count": 83,
   "metadata": {
    "collapsed": false
   },
   "outputs": [],
   "source": [
    "#Data cleaning\n",
    "\n",
    "#Joining df\n",
    "data = pd.merge(data_ratings, data_users, how=\"inner\", on=\"UserID\")\n",
    "data = pd.merge(data, data_movies, how=\"inner\", on=\"MovieID\")\n"
   ]
  },
  {
   "cell_type": "code",
   "execution_count": 84,
   "metadata": {
    "collapsed": false
   },
   "outputs": [
    {
     "data": {
      "text/html": [
       "<div>\n",
       "<table border=\"1\" class=\"dataframe\">\n",
       "  <thead>\n",
       "    <tr style=\"text-align: right;\">\n",
       "      <th></th>\n",
       "      <th>UserID</th>\n",
       "      <th>MovieID</th>\n",
       "      <th>Rating</th>\n",
       "      <th>GenderProcessed</th>\n",
       "      <th>Age</th>\n",
       "      <th>Occupation</th>\n",
       "      <th>GenresProcessed</th>\n",
       "    </tr>\n",
       "  </thead>\n",
       "  <tbody>\n",
       "    <tr>\n",
       "      <th>0</th>\n",
       "      <td>1</td>\n",
       "      <td>1193</td>\n",
       "      <td>5</td>\n",
       "      <td>1</td>\n",
       "      <td>1</td>\n",
       "      <td>10</td>\n",
       "      <td>64</td>\n",
       "    </tr>\n",
       "    <tr>\n",
       "      <th>1</th>\n",
       "      <td>2</td>\n",
       "      <td>1193</td>\n",
       "      <td>5</td>\n",
       "      <td>0</td>\n",
       "      <td>56</td>\n",
       "      <td>16</td>\n",
       "      <td>64</td>\n",
       "    </tr>\n",
       "    <tr>\n",
       "      <th>2</th>\n",
       "      <td>12</td>\n",
       "      <td>1193</td>\n",
       "      <td>4</td>\n",
       "      <td>0</td>\n",
       "      <td>25</td>\n",
       "      <td>12</td>\n",
       "      <td>64</td>\n",
       "    </tr>\n",
       "    <tr>\n",
       "      <th>3</th>\n",
       "      <td>15</td>\n",
       "      <td>1193</td>\n",
       "      <td>4</td>\n",
       "      <td>0</td>\n",
       "      <td>25</td>\n",
       "      <td>7</td>\n",
       "      <td>64</td>\n",
       "    </tr>\n",
       "    <tr>\n",
       "      <th>4</th>\n",
       "      <td>17</td>\n",
       "      <td>1193</td>\n",
       "      <td>5</td>\n",
       "      <td>0</td>\n",
       "      <td>50</td>\n",
       "      <td>1</td>\n",
       "      <td>64</td>\n",
       "    </tr>\n",
       "  </tbody>\n",
       "</table>\n",
       "</div>"
      ],
      "text/plain": [
       "   UserID  MovieID  Rating  GenderProcessed  Age  Occupation  GenresProcessed\n",
       "0       1     1193       5                1    1          10               64\n",
       "1       2     1193       5                0   56          16               64\n",
       "2      12     1193       4                0   25          12               64\n",
       "3      15     1193       4                0   25           7               64\n",
       "4      17     1193       5                0   50           1               64"
      ]
     },
     "metadata": {},
     "output_type": "display_data"
    }
   ],
   "source": [
    "#Feature Extraction\n",
    "\n",
    "def get_genre_id(genres_list):\n",
    "    \"\"\"\n",
    "    return the integer id of a list of genres, \n",
    "    which is the integer corresponding to the binary intersection of the list with all the genres\n",
    "    \"\"\"\n",
    "    # movie genres\n",
    "    genres = [\n",
    "        'Action',\n",
    "        'Adventure',\n",
    "        'Animation',\n",
    "        'Children\\'s',\n",
    "        'Comedy',\n",
    "        'Documentary',\n",
    "        'Drama',\n",
    "        'Fantasy',\n",
    "        'Film-Noir',\n",
    "        'Horror',\n",
    "        'Musical',\n",
    "        'Mystery',\n",
    "        'Romance',\n",
    "        'Sci-Fi',\n",
    "        'Thriller',\n",
    "        'War',\n",
    "        'Western'\n",
    "    ]\n",
    "    # creating id\n",
    "    id = 0\n",
    "    weight = 1\n",
    "    for genre in genres:\n",
    "        if genre in genres_list:\n",
    "            id += weight\n",
    "        weight*=2\n",
    "    return id\n",
    "\n",
    "\n",
    "data['GenresProcessed'] = data['Genres'].apply(get_genre_id)\n",
    "data['GenderProcessed'] = data['Gender'].apply(lambda x: 0 if x == 'M' else 1)\n",
    "\n",
    "#Droping unwanted columns\n",
    "#data = data.drop(\"Zip-code\", 1)\n",
    "#data = data.drop(\"Timestamp\", 1)\n",
    "#data = data.drop(\"Title\", 1)\n",
    "#data = data.drop(\"MovieID\", 1)\n",
    "#data = data.drop(\"UserID\", 1)\n",
    "columns = ['UserID', 'MovieID', 'Rating', 'GenderProcessed', 'Age', 'Occupation', 'GenresProcessed']\n",
    "data = data[columns]\n",
    "\n",
    "\n",
    "display(data.head())\n"
   ]
  },
  {
   "cell_type": "markdown",
   "metadata": {},
   "source": [
    "### Train/Validation/Test split\n",
    "\n",
    "We now construct a function to split our dataset into three different sets:\n",
    "\n",
    "- A training set, which will be used to build the classifiers\n",
    "- A validation set, which will be used to determine the best hyperparameters of the classifiers (for example, the maximum depth of the three)\n",
    "- A test set, which will be used to measure the performance\n",
    "\n",
    "We will randomly construct the sets, and we will spit the sets with 60%, 20% and 20% of the shuffled data, respectively for the trainig, validation and test sets."
   ]
  },
  {
   "cell_type": "code",
   "execution_count": 85,
   "metadata": {
    "collapsed": false
   },
   "outputs": [
    {
     "name": "stdout",
     "output_type": "stream",
     "text": [
      "Training set size: 600148\n",
      "Validation set size: 200050\n",
      "Test set size: 200051\n"
     ]
    }
   ],
   "source": [
    "def dataset_split(df, label_name, train_size=0.6, validation_size=0.2):\n",
    "    \"\"\"\n",
    "    splits the data into training, validation and test sets\n",
    "    \"\"\"\n",
    "    \n",
    "    # empty dataframes\n",
    "    train_set = pd.DataFrame(columns=list(df.columns))\n",
    "    validation_set = pd.DataFrame(columns=list(df.columns))\n",
    "    test_set = pd.DataFrame(columns=list(df.columns))\n",
    "    \n",
    "    # stratify sampling\n",
    "    labels = df[label_name].unique()\n",
    "    for label in labels:\n",
    "        label_df = df.ix[df[label_name] == label]\n",
    "        label_df = label_df.sample(frac=1) #randomize\n",
    "        size = len(label_df.index)\n",
    "        validation_start = int(train_size*size)\n",
    "        test_start = int((train_size+validation_size)*size)\n",
    "        train_set = pd.concat([train_set, label_df[:validation_start]])\n",
    "        validation_set = pd.concat([validation_set, label_df[validation_start:test_start]])\n",
    "        test_set = pd.concat([test_set, label_df[test_start:]])\n",
    "    \n",
    "    # randomizing\n",
    "    train_set = train_set.sample(frac=1)\n",
    "    validation_set = validation_set.sample(frac=1)\n",
    "    test_set = test_set.sample(frac=1)\n",
    "    \n",
    "    return train_set, validation_set, test_set\n",
    "\n",
    "train_set, validation_set, test_set = dataset_split(data,'Rating')\n",
    "\n",
    "#Convert rating to int\n",
    "train_set[columns] = train_set[columns].astype(int)\n",
    "validation_set[columns] = validation_set[columns].astype(int)\n",
    "test_set[columns] = test_set[columns].astype(int)\n",
    "\n",
    "print (\"Training set size: \" + str(len(train_set.index)))\n",
    "print (\"Validation set size: \" + str(len(validation_set.index)))\n",
    "print (\"Test set size: \" + str(len(test_set.index)))\n"
   ]
  },
  {
   "cell_type": "code",
   "execution_count": 86,
   "metadata": {
    "collapsed": false
   },
   "outputs": [
    {
     "data": {
      "text/plain": [
       "array([5, 4, 3, 2, 1])"
      ]
     },
     "execution_count": 86,
     "metadata": {},
     "output_type": "execute_result"
    }
   ],
   "source": [
    "data['Rating'].unique()"
   ]
  },
  {
   "cell_type": "markdown",
   "metadata": {},
   "source": [
    "### Naive Bayes Classifier\n",
    "\n",
    "Using the naive bayes classifier implemented in classifier.py, we get:"
   ]
  },
  {
   "cell_type": "code",
   "execution_count": 99,
   "metadata": {
    "collapsed": false
   },
   "outputs": [
    {
     "name": "stdout",
     "output_type": "stream",
     "text": [
      "Classifier trained.\n"
     ]
    }
   ],
   "source": [
    "from classifier import NaiveBayesClassifier\n",
    "\n",
    "trainX = train_set.drop(['Rating', 'UserID', 'MovieID'], axis=1).values\n",
    "trainY = train_set['Rating'].values\n",
    "\n",
    "# display(trainX)\n",
    "# display(trainY)\n",
    "# display(np.shape(trainX))\n",
    "# display(np.shape(trainY))\n",
    "# display(np.unique(trainY))\n",
    "\n",
    "nb = NaiveBayesClassifier()\n",
    "\n",
    "nb.fit(trainX, trainY)\n",
    "\n",
    "\n",
    "print (\"Classifier trained.\")"
   ]
  },
  {
   "cell_type": "code",
   "execution_count": 92,
   "metadata": {
    "collapsed": false
   },
   "outputs": [
    {
     "name": "stdout",
     "output_type": "stream",
     "text": [
      " Predicting ratings for all movies seen by users 6041 and 6042...\n",
      "Tree prediction for user 6041 and movie 527:  5.0\n",
      "Tree prediction for user 6042 and movie 527:  5.0\n",
      "Tree prediction for user 6041 and movie 260:  5.0\n",
      "Tree prediction for user 6042 and movie 260:  5.0\n",
      "Tree prediction for user 6041 and movie 608:  4.0\n",
      "Tree prediction for user 6042 and movie 608:  4.0\n",
      "Tree prediction for user 6041 and movie 1246:  4.0\n",
      "Tree prediction for user 6042 and movie 1246:  4.0\n",
      "Tree prediction for user 6041 and movie 1225:  4.0\n",
      "Tree prediction for user 6042 and movie 1225:  4.0\n",
      "Tree prediction for user 6041 and movie 318:  4.0\n",
      "Tree prediction for user 6042 and movie 318:  4.0\n",
      "Tree prediction for user 6041 and movie 215:  4.0\n",
      "Tree prediction for user 6042 and movie 215:  4.0\n",
      "Tree prediction for user 6041 and movie 47:  4.0\n",
      "Tree prediction for user 6042 and movie 47:  4.0\n",
      "Tree prediction for user 6041 and movie 296:  4.0\n",
      "Tree prediction for user 6042 and movie 296:  4.0\n",
      "Tree prediction for user 6041 and movie 50:  4.0\n",
      "Tree prediction for user 6042 and movie 50:  4.0\n",
      "Tree prediction for user 6041 and movie 1732:  5.0\n",
      "Tree prediction for user 6042 and movie 1732:  5.0\n",
      "Tree prediction for user 6041 and movie 73:  4.0\n",
      "Tree prediction for user 6042 and movie 73:  4.0\n",
      "Tree prediction for user 6041 and movie 924:  5.0\n",
      "Tree prediction for user 6042 and movie 924:  5.0\n",
      "Tree prediction for user 6041 and movie 1203:  4.0\n",
      "Tree prediction for user 6042 and movie 1203:  4.0\n",
      "Tree prediction for user 6041 and movie 3503:  4.0\n",
      "Tree prediction for user 6042 and movie 3503:  4.0\n",
      "Tree prediction for user 6041 and movie 1206:  5.0\n",
      "Tree prediction for user 6042 and movie 1206:  5.0\n",
      "Tree prediction for user 6041 and movie 771:  4.0\n",
      "Tree prediction for user 6042 and movie 771:  4.0\n",
      "Tree prediction for user 6041 and movie 1222:  5.0\n",
      "Tree prediction for user 6042 and movie 1222:  5.0\n",
      "Tree prediction for user 6041 and movie 673:  3.0\n",
      "Tree prediction for user 6042 and movie 673:  3.0\n",
      "Tree prediction for user 6041 and movie 1298:  4.0\n",
      "Tree prediction for user 6042 and movie 1298:  4.0\n"
     ]
    }
   ],
   "source": [
    "#Show results for user 6041 and 6042\n",
    "print (\" Predicting ratings for all movies seen by users 6041 and 6042...\")\n",
    "rows = data.ix[data['UserID'].isin([6041,6042])]\n",
    "\n",
    "for _, row in rows.iterrows():\n",
    "    row_pred = row.drop(['Rating', 'UserID', 'MovieID'])\n",
    "    #display(row.shape)\n",
    "    #display(row.values)\n",
    "    prediction = nb.predict(np.array([row_pred.values]))\n",
    "    print (\"Tree prediction for user \" + str(row['UserID']) + \" and movie \" + str(row['MovieID']) + \": \", str(prediction[0][0]))\n"
   ]
  },
  {
   "cell_type": "markdown",
   "metadata": {},
   "source": [
    "## Measuring performance\n",
    "\n",
    "Lets build some usefull functions to better measure the performance of a classifier. First of all, \n",
    "we'll build a function to plot the confusion matrix in a more user friendly display let's test this with the confusion matrix from the classifier we built above, for the test set.\n",
    "\n"
   ]
  },
  {
   "cell_type": "code",
   "execution_count": 94,
   "metadata": {
    "collapsed": false
   },
   "outputs": [
    {
     "data": {
      "text/plain": [
       "array([[ 4.],\n",
       "       [ 4.],\n",
       "       [ 4.],\n",
       "       ..., \n",
       "       [ 5.],\n",
       "       [ 4.],\n",
       "       [ 4.]])"
      ]
     },
     "metadata": {},
     "output_type": "display_data"
    },
    {
     "name": "stdout",
     "output_type": "stream",
     "text": [
      "Predicting ratings for test set. This may take a while...\n",
      "Done. Plotting the confusion matrix\n"
     ]
    },
    {
     "data": {
      "image/png": "[encoded data removed]",
      "text/plain": [
       "<matplotlib.figure.Figure at 0x7f2c63af5470>"
      ]
     },
     "metadata": {},
     "output_type": "display_data"
    }
   ],
   "source": [
    "%matplotlib inline\n",
    "import matplotlib.pyplot as plt\n",
    "import itertools\n",
    "\n",
    "def plot_confusion_matrix(matrix_in, classes, cmap=plt.cm.Blues):\n",
    "    classes.sort()\n",
    "    matrix = []\n",
    "    for s_class in classes:\n",
    "        row = []\n",
    "        for o_class in classes:\n",
    "            row.append(matrix_in[o_class][s_class])\n",
    "        matrix.append(row)\n",
    "    cm = np.array(matrix, dtype=int)\n",
    "    \n",
    "    plt.imshow(cm, interpolation='nearest', cmap=cmap)\n",
    "    plt.title(\"Confusion matrix\")\n",
    "    plt.colorbar()\n",
    "    tick_marks = np.arange(len(classes))\n",
    "    plt.xticks(tick_marks, classes)\n",
    "    plt.yticks(tick_marks,classes)\n",
    "    \n",
    "    thresh = cm.max() / 2.\n",
    "    for i, j in itertools.product(range(cm.shape[0]), range(cm.shape[1])):\n",
    "        plt.text(j, i, cm[i, j],\n",
    "                 horizontalalignment=\"center\",\n",
    "                 color=\"white\" if cm[i, j] > thresh else \"black\")\n",
    "    plt.tight_layout()\n",
    "    plt.ylabel('True label')\n",
    "    plt.xlabel('Predicted label')\n",
    "    \n",
    "X_test = train_set.drop(['Rating', 'UserID', 'MovieID'], axis=1).values\n",
    "Y_test = train_set['Rating'].values\n",
    "labels = data['Rating'].unique()\n",
    "\n",
    "y_pred = nb.predict(X_test)\n",
    "display(y_pred)\n",
    "\n",
    "print (\"Predicting ratings for test set. This may take a while...\")\n",
    "confusion_matrix = nb.score(X_test, Y_test, labels)\n",
    "print (\"Done. Plotting the confusion matrix\")\n",
    "plot_confusion_matrix(confusion_matrix, labels)"
   ]
  },
  {
   "cell_type": "code",
   "execution_count": 90,
   "metadata": {
    "collapsed": false
   },
   "outputs": [
    {
     "data": {
      "text/plain": [
       "array([ 4.,  5.])"
      ]
     },
     "execution_count": 90,
     "metadata": {},
     "output_type": "execute_result"
    }
   ],
   "source": [
    "np.unique(y_pred)"
   ]
  },
  {
   "cell_type": "markdown",
   "metadata": {},
   "source": [
    "### Calculating scores\n",
    "\n",
    "We will now build a function that, given a confusion matrix, computes the accuracy, mean square error and Kappa score."
   ]
  },
  {
   "cell_type": "code",
   "execution_count": 95,
   "metadata": {
    "collapsed": false
   },
   "outputs": [
    {
     "name": "stdout",
     "output_type": "stream",
     "text": [
      "Accuracy: 0.36173410558728847\n",
      "Mean Square Error: 1.40686630631\n",
      "Kappa score: 0.0539237491816\n"
     ]
    }
   ],
   "source": [
    "def get_statistics(confusion_matrix, labels): \n",
    "    \"\"\"\n",
    "    compute accuracy, mean square error and kappa \n",
    "    \"\"\"\n",
    "    total = 0.0\n",
    "    rights = 0.0\n",
    "    error = 0.0\n",
    "    true_totals = np.zeros(len(labels)+1)\n",
    "    predict_totals = np.zeros(len(labels)+1)\n",
    "    for true_label in labels:\n",
    "        for predicted_label in labels:\n",
    "            current_val = confusion_matrix[predicted_label][true_label]\n",
    "            total += current_val\n",
    "            error += abs(true_label-predicted_label)**2 * current_val\n",
    "            predict_totals[int(predicted_label)] += current_val\n",
    "            true_totals[int(true_label)] += current_val\n",
    "        rights += confusion_matrix[true_label][true_label]\n",
    "    accuracy = rights/total\n",
    "    error /= total\n",
    "    \n",
    "    ef = 0.0\n",
    "    for label in labels:\n",
    "        ef += true_totals[int(label)]*predict_totals[int(label)]/total\n",
    "    K = (rights-ef)/(total-ef)\n",
    "    return accuracy, error, K\n",
    "\n",
    "accuracy, error, kappa = get_statistics(confusion_matrix, labels)\n",
    "print (\"Accuracy:\", accuracy)\n",
    "print (\"Mean Square Error:\", error)\n",
    "print (\"Kappa score:\", kappa )"
   ]
  },
  {
   "cell_type": "markdown",
   "metadata": {},
   "source": [
    "Lastly and just for fun, we compare the confusion matrix and scores for the 3 classifiers, using data from the movies rated by the authors."
   ]
  },
  {
   "cell_type": "code",
   "execution_count": 98,
   "metadata": {
    "collapsed": false
   },
   "outputs": [
    {
     "name": "stdout",
     "output_type": "stream",
     "text": [
      " Predicting ratings for all movies seen by users 6041 and 6042...\n",
      "Predicting ratings for test set. This may take a while...\n",
      "Done. Plotting the confusion matrix\n",
      "Accuracy: 0.425\n",
      "Mean Square Error: 0.8\n",
      "Kappa score: -0.00217864923747\n"
     ]
    },
    {
     "data": {
      "image/png": "[encoded data removed]",
      "text/plain": [
       "<matplotlib.figure.Figure at 0x7f2c63b89550>"
      ]
     },
     "metadata": {},
     "output_type": "display_data"
    }
   ],
   "source": [
    "#Show results for user 6041 and 6042\n",
    "print (\" Predicting ratings for all movies seen by users 6041 and 6042...\")\n",
    "author_set = data.ix[data['UserID'].isin([6041,6042])]\n",
    "\n",
    "\n",
    "X_author = author_set.drop(['Rating', 'UserID', 'MovieID'], axis=1).values\n",
    "Y_author = author_set['Rating'].values\n",
    "labels = data['Rating'].unique()\n",
    "\n",
    "y_pred = nb.predict(X_author)\n",
    "\n",
    "print (\"Predicting ratings for test set. This may take a while...\")\n",
    "confusion_matrix = nb.score(X_author, Y_author, labels)\n",
    "print (\"Done. Plotting the confusion matrix\")\n",
    "plot_confusion_matrix(confusion_matrix, labels)\n",
    "\n",
    "accuracy, error, kappa = get_statistics(confusion_matrix, labels)\n",
    "print (\"Accuracy:\", accuracy)\n",
    "print (\"Mean Square Error:\", error)\n",
    "print (\"Kappa score:\", kappa )"
   ]
  },
  {
   "cell_type": "code",
   "execution_count": null,
   "metadata": {
    "collapsed": true
   },
   "outputs": [],
   "source": []
  }
 ],
 "metadata": {
  "anaconda-cloud": {},
  "kernelspec": {
   "display_name": "Python [default]",
   "language": "python",
   "name": "python3"
  },
  "language_info": {
   "codemirror_mode": {
    "name": "ipython",
    "version": 3
   },
   "file_extension": ".py",
   "mimetype": "text/x-python",
   "name": "python",
   "nbconvert_exporter": "python",
   "pygments_lexer": "ipython3",
   "version": "3.5.2"
  }
 },
 "nbformat": 4,
 "nbformat_minor": 1
}
